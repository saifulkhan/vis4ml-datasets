{
 "cells": [
  {
   "cell_type": "code",
   "execution_count": null,
   "metadata": {},
   "outputs": [],
   "source": [
    "%load_ext autoreload  \n",
    "%autoreload 2\n",
    "\n",
    "import warnings  \n",
    "warnings.filterwarnings('ignore')"
   ]
  },
  {
   "cell_type": "code",
   "execution_count": 26,
   "metadata": {},
   "outputs": [],
   "source": [
    "import os\n",
    "import sys\n",
    "\n",
    "module_path = os.path.abspath(os.path.join(\"../\"))\n",
    "if module_path not in sys.path:\n",
    "    sys.path.insert(0, module_path)"
   ]
  },
  {
   "cell_type": "code",
   "execution_count": 32,
   "metadata": {},
   "outputs": [],
   "source": [
    "import numpy as np\n",
    "\n",
    "from src.shape import (\n",
    "    circle,\n",
    "    square,\n",
    "    triangle,\n",
    "    combine_shapes,\n",
    "    check_overlapping,\n",
    "    check_cropping,\n",
    ")\n",
    "from src.utils import show, show_sample, read_distribution, read_metadata\n",
    "from src.generator import generate_image, generate_images"
   ]
  },
  {
   "cell_type": "markdown",
   "metadata": {},
   "source": [
    "## Test Metadata & Distribution"
   ]
  },
  {
   "cell_type": "markdown",
   "metadata": {},
   "source": [
    "## "
   ]
  },
  {
   "cell_type": "code",
   "execution_count": 29,
   "metadata": {},
   "outputs": [
    {
     "data": {
      "text/plain": [
       "{'shape': ['circle', 'square', 'triangle'],\n",
       " 'scale': array([0.6565, 0.6115, 0.5805, 0.2277, 0.5545, 0.4827, 0.2704, 0.5217]),\n",
       " 'nsp_scale': 8,\n",
       " 'pos_x': array([0.5349, 0.3892, 0.7011, 0.5631, 0.4949, 0.384 , 0.4264, 0.5033]),\n",
       " 'nsp_pos_x': 8,\n",
       " 'pos_y': array([0.6046, 0.6441, 0.2149, 0.5356]),\n",
       " 'nsp_pos_y': 4,\n",
       " 'rotation': array([14, 24, 25, 83]),\n",
       " 'nsp_rotation': 4,\n",
       " 'grey': [50, 255],\n",
       " 'nsp_grey': 16}"
      ]
     },
     "execution_count": 29,
     "metadata": {},
     "output_type": "execute_result"
    }
   ],
   "source": [
    "distribution = read_distribution(\"../distribution.json\")\n",
    "distribution"
   ]
  },
  {
   "cell_type": "code",
   "execution_count": 30,
   "metadata": {},
   "outputs": [
    {
     "data": {
      "text/plain": [
       "{'num_images': 10,\n",
       " 'num_shapes': 2,\n",
       " 'output_dir': '../output',\n",
       " 'output_prefix': 'TestData-JC-July24_',\n",
       " 'output_type': 'png',\n",
       " 'output_digit': 4,\n",
       " 'image_width': 64,\n",
       " 'image_height': 64,\n",
       " 'color_type': 'grey',\n",
       " 'background': 'white',\n",
       " 'color_background': 10,\n",
       " 'shape_overlapping': False,\n",
       " 'shape_cropping': False}"
      ]
     },
     "execution_count": 30,
     "metadata": {},
     "output_type": "execute_result"
    }
   ],
   "source": [
    "metadata = read_metadata(\"../metadata.json\")\n",
    "metadata"
   ]
  },
  {
   "cell_type": "code",
   "execution_count": 34,
   "metadata": {},
   "outputs": [
    {
     "data": {
      "text/plain": [
       "2"
      ]
     },
     "execution_count": 34,
     "metadata": {},
     "output_type": "execute_result"
    }
   ],
   "source": [
    "metadata[\"num_shapes\"]"
   ]
  },
  {
   "cell_type": "markdown",
   "metadata": {},
   "source": [
    "## Test Generate Shape"
   ]
  },
  {
   "cell_type": "markdown",
   "metadata": {},
   "source": [
    "## "
   ]
  },
  {
   "cell_type": "code",
   "execution_count": 39,
   "metadata": {},
   "outputs": [
    {
     "data": {
      "image/png": "[encoded data removed]",
      "text/plain": [
       "<Figure size 300x300 with 1 Axes>"
      ]
     },
     "metadata": {},
     "output_type": "display_data"
    },
    {
     "name": "stdout",
     "output_type": "stream",
     "text": [
      "False\n",
      "[{'shape': 'circle', 'scale': 0.2277, 'pos_x': 0.5033, 'pos_y': 0.6046, 'rotation': 24}, {'shape': 'square', 'scale': 0.2704, 'pos_x': 0.3892, 'pos_y': 0.2149, 'rotation': 14}]\n"
     ]
    }
   ],
   "source": [
    "image, label = generate_image(metadata, distribution)\n",
    "show(image)\n",
    "print(check_cropping(image))\n",
    "print(label)"
   ]
  },
  {
   "cell_type": "markdown",
   "metadata": {},
   "source": [
    "Test Generate Images"
   ]
  },
  {
   "cell_type": "code",
   "execution_count": 41,
   "metadata": {},
   "outputs": [],
   "source": [
    "generate_images(metadata, distribution)"
   ]
  },
  {
   "cell_type": "code",
   "execution_count": null,
   "metadata": {},
   "outputs": [],
   "source": []
  }
 ],
 "metadata": {
  "kernelspec": {
   "display_name": "pytorch_2.3.1",
   "language": "python",
   "name": "python3"
  },
  "language_info": {
   "codemirror_mode": {
    "name": "ipython",
    "version": 3
   },
   "file_extension": ".py",
   "mimetype": "text/x-python",
   "name": "python",
   "nbconvert_exporter": "python",
   "pygments_lexer": "ipython3",
   "version": "3.9.19"
  }
 },
 "nbformat": 4,
 "nbformat_minor": 2
}
